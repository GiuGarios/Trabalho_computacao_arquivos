{
 "cells": [
  {
   "cell_type": "markdown",
   "id": "2b4ca2ed",
   "metadata": {},
   "source": [
    "# Introdução"
   ]
  },
  {
   "cell_type": "markdown",
   "id": "7b461bc7",
   "metadata": {},
   "source": [
    "# Dados"
   ]
  },
  {
   "cell_type": "code",
   "execution_count": null,
   "id": "83d163a9",
   "metadata": {},
   "outputs": [],
   "source": [
    "# Bibliotecas Usadas\n",
    "import numpy as np\n",
    "import pandas as pd\n",
    "\n",
    "# Ajustando a configuração de vizuaização de colunas do Jupyter\n",
    "pd.set_option('max_columns', none)"
   ]
  },
  {
   "cell_type": "code",
   "execution_count": null,
   "id": "08ac40a8",
   "metadata": {},
   "outputs": [],
   "source": [
    "# Importando a base de dados\n",
    "data = pd.read_excel('graduation_dataset.xlsx')"
   ]
  },
  {
   "cell_type": "markdown",
   "id": "aa9b4353",
   "metadata": {},
   "source": [
    "# Resultados"
   ]
  },
  {
   "cell_type": "markdown",
   "id": "64e5bbea",
   "metadata": {},
   "source": [
    "# Conclusão"
   ]
  }
 ],
 "metadata": {
  "kernelspec": {
   "display_name": "Python 3 (ipykernel)",
   "language": "python",
   "name": "python3"
  },
  "language_info": {
   "codemirror_mode": {
    "name": "ipython",
    "version": 3
   },
   "file_extension": ".py",
   "mimetype": "text/x-python",
   "name": "python",
   "nbconvert_exporter": "python",
   "pygments_lexer": "ipython3",
   "version": "3.11.5"
  }
 },
 "nbformat": 4,
 "nbformat_minor": 5
}
